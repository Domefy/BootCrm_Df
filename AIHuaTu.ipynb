{
  "nbformat": 4,
  "nbformat_minor": 0,
  "metadata": {
    "colab": {
      "name": "AIHuaTu.ipynb",
      "provenance": [],
      "collapsed_sections": [],
      "mount_file_id": "1nekPTVPM7Tt9vgVmmFPAj277hOeRDdVW",
      "authorship_tag": "ABX9TyNQTbo+FaQ9wNdORtVmXARr",
      "include_colab_link": true
    },
    "kernelspec": {
      "name": "python3",
      "display_name": "Python 3"
    },
    "language_info": {
      "name": "python"
    }
  },
  "cells": [
    {
      "cell_type": "markdown",
      "metadata": {
        "id": "view-in-github",
        "colab_type": "text"
      },
      "source": [
        "<a href=\"https://colab.research.google.com/github/Domefy/BootCrm_Df/blob/master/AIHuaTu.ipynb\" target=\"_parent\"><img src=\"https://colab.research.google.com/assets/colab-badge.svg\" alt=\"Open In Colab\"/></a>"
      ]
    },
    {
      "cell_type": "markdown",
      "source": [
        ""
      ],
      "metadata": {
        "id": "AvGdK0Anb_l5"
      }
    },
    {
      "cell_type": "code",
      "source": [
        "cd /content/"
      ],
      "metadata": {
        "colab": {
          "base_uri": "https://localhost:8080/"
        },
        "id": "rpoBiS2tkhuC",
        "outputId": "50cbf768-3054-4a69-fac5-559511930ccc"
      },
      "execution_count": 7,
      "outputs": [
        {
          "output_type": "stream",
          "name": "stdout",
          "text": [
            "/content\n"
          ]
        }
      ]
    },
    {
      "cell_type": "code",
      "source": [
        "!tar -zxvf Python-3.7.0.tgz"
      ],
      "metadata": {
        "id": "VtfzQT0ikh-4"
      },
      "execution_count": null,
      "outputs": []
    },
    {
      "cell_type": "code",
      "source": [
        "mkdir /usr/local/python3 "
      ],
      "metadata": {
        "id": "WZL6MBeXcBDA"
      },
      "execution_count": 11,
      "outputs": []
    },
    {
      "cell_type": "code",
      "execution_count": 12,
      "metadata": {
        "colab": {
          "base_uri": "https://localhost:8080/"
        },
        "id": "TxshqNuHbjeX",
        "outputId": "cf2f273f-de8b-4e39-e0f8-0701695ced29"
      },
      "outputs": [
        {
          "output_type": "stream",
          "name": "stdout",
          "text": [
            "/content/Python-3.7.0\n"
          ]
        }
      ],
      "source": [
        "cd Python-3.7.0"
      ]
    },
    {
      "cell_type": "code",
      "source": [
        "!./configure --prefix=/usr/local/python3"
      ],
      "metadata": {
        "id": "ivgrG7QwlSkz"
      },
      "execution_count": null,
      "outputs": []
    },
    {
      "cell_type": "code",
      "source": [
        "!make && make install"
      ],
      "metadata": {
        "id": "MAr4-iDVlSsh"
      },
      "execution_count": null,
      "outputs": []
    },
    {
      "cell_type": "code",
      "source": [
        "!ln -s /usr/local/python3/bin/python3.7 /usr/bin/python3"
      ],
      "metadata": {
        "id": "yA5x6S1UlS05"
      },
      "execution_count": null,
      "outputs": []
    },
    {
      "cell_type": "code",
      "source": [
        "!ln -s /usr/local/python3/bin/pip3.7 /usr/bin/pip3"
      ],
      "metadata": {
        "id": "ZfAW1vYilS7q"
      },
      "execution_count": 19,
      "outputs": []
    },
    {
      "cell_type": "code",
      "source": [
        "!python3"
      ],
      "metadata": {
        "id": "fmwwS1d5mCSr"
      },
      "execution_count": null,
      "outputs": []
    },
    {
      "cell_type": "markdown",
      "source": [
        "上方是 安装python3,7"
      ],
      "metadata": {
        "id": "3LJNYaszmIWK"
      }
    },
    {
      "cell_type": "code",
      "source": [
        "!unzip /content/jittor-1.0.1.zip"
      ],
      "metadata": {
        "id": "fxSVLP2imCda"
      },
      "execution_count": null,
      "outputs": []
    },
    {
      "cell_type": "code",
      "source": [
        "!sudo apt install python3.7-dev libomp-dev"
      ],
      "metadata": {
        "id": "FQ1CqzFEmCiy"
      },
      "execution_count": null,
      "outputs": []
    },
    {
      "cell_type": "code",
      "source": [
        "!sudo python3.7 -m pip install git+https://github.com/Jittor/jittor.git"
      ],
      "metadata": {
        "id": "1GUTHqn4oMLb"
      },
      "execution_count": null,
      "outputs": []
    },
    {
      "cell_type": "code",
      "source": [
        "!python3.7 -m jittor.test.test_example"
      ],
      "metadata": {
        "id": "RpBHRYFvowVj"
      },
      "execution_count": null,
      "outputs": []
    },
    {
      "cell_type": "code",
      "source": [
        "!unzip /content/DeepFaceDrawing-Jittor-master.zip -d /content/DeepFaceDrawing-Jittor-master"
      ],
      "metadata": {
        "id": "HDcQA2OEowd7"
      },
      "execution_count": null,
      "outputs": []
    },
    {
      "cell_type": "code",
      "source": [
        "!cd /content/DeepFaceDrawing-Jittor-master/DeepFaceDrawing-Jittor-master"
      ],
      "metadata": {
        "id": "c149s8GMowla"
      },
      "execution_count": 29,
      "outputs": []
    },
    {
      "cell_type": "code",
      "source": [
        "!ls"
      ],
      "metadata": {
        "id": "Z1t7QfUDsCZV"
      },
      "execution_count": null,
      "outputs": []
    },
    {
      "cell_type": "code",
      "source": [
        "!sh /content/DeepFaceDrawing-Jittor-master/DeepFaceDrawing-Jittor-master/install.sh"
      ],
      "metadata": {
        "id": "yLY2c0sHowhD"
      },
      "execution_count": null,
      "outputs": []
    },
    {
      "cell_type": "code",
      "source": [
        "!python3.7 /content/DeepFaceDrawing-Jittor-master/DeepFaceDrawing-Jittor-master/demo.py"
      ],
      "metadata": {
        "id": "7uW3u9zotcpF"
      },
      "execution_count": null,
      "outputs": []
    },
    {
      "cell_type": "markdown",
      "source": [
        "1.首先需要让colab获得google drive的授权，在google colab里执行如下代码："
      ],
      "metadata": {
        "id": "C78Dow9l7ghW"
      }
    },
    {
      "cell_type": "code",
      "source": [
        "!apt-get install -y -qq software-properties-common python-software-properties module-init-tools\n",
        "!add-apt-repository -y ppa:alessandro-strada/ppa 2>&1 > /dev/null\n",
        "!apt-get update -qq 2>&1 > /dev/null\n",
        "!apt-get -y install -qq google-drive-ocamlfuse fuse\n",
        "from google.colab import auth\n",
        "auth.authenticate_user()\n",
        "from oauth2client.client import GoogleCredentials\n",
        "creds = GoogleCredentials.get_application_default()\n",
        "import getpass\n",
        "!google-drive-ocamlfuse -headless -id={creds.client_id} -secret={creds.client_secret} < /dev/null 2>&1 | grep URL\n",
        "vcode = getpass.getpass()\n",
        "!echo {vcode} | google-drive-ocamlfuse -headless -id={creds.client_id} -secret={creds.client_secret}"
      ],
      "metadata": {
        "id": "5FRJgIwH618n"
      },
      "execution_count": null,
      "outputs": []
    },
    {
      "cell_type": "markdown",
      "source": [
        "2.指定Google Drive云端硬盘的根目录，名为drive"
      ],
      "metadata": {
        "id": "7WvzDgkK7ZZk"
      }
    },
    {
      "cell_type": "markdown",
      "source": [
        ""
      ],
      "metadata": {
        "id": "maUEKlA17W_G"
      }
    },
    {
      "cell_type": "code",
      "source": [
        "!mkdir -p drive\n",
        "!google-drive-ocamlfuse drive # 此时colab中出现drive的文件夹，里面就是你的google drive的根目录文件"
      ],
      "metadata": {
        "id": "RNvTuEXk7VD3"
      },
      "execution_count": 37,
      "outputs": []
    },
    {
      "cell_type": "code",
      "source": [
        "!unzip /content/DeepFaceDrawing-Jittor-master/DeepFaceDrawing-Jittor-master/Params.zip -d /content/DeepFaceDrawing-Jittor-master/DeepFaceDrawing-Jittor-master/Params"
      ],
      "metadata": {
        "id": "XPgAK_L362Wf"
      },
      "execution_count": null,
      "outputs": []
    },
    {
      "cell_type": "code",
      "source": [
        "!python3.7 /content/DeepFaceDrawing-Jittor-master/DeepFaceDrawing-Jittor-master/test_model.py"
      ],
      "metadata": {
        "id": "gcRZFtq28zOf"
      },
      "execution_count": null,
      "outputs": []
    },
    {
      "cell_type": "code",
      "source": [
        "!python3.7 /content/DeepFaceDrawing-Jittor-master/DeepFaceDrawing-Jittor-master/demo.py"
      ],
      "metadata": {
        "colab": {
          "base_uri": "https://localhost:8080/"
        },
        "id": "O0GMQ_lh87EO",
        "outputId": "314a4dc3-33df-4dad-e6e2-3b32f999af32"
      },
      "execution_count": 46,
      "outputs": [
        {
          "output_type": "stream",
          "name": "stdout",
          "text": [
            "[i 1220 13:58:24.588243 92 __init__.py:249] Found g++(7.5.0) at /usr/bin/g++.\n",
            "\u001b[38;5;2m[i 1220 13:58:24.606375 20 compiler.py:846] Jittor(1.2.2.9) src: /usr/local/lib/python3.7/dist-packages/jittor\u001b[m\n",
            "\u001b[38;5;2m[i 1220 13:58:24.606590 20 compiler.py:847] cache_path: /root/.cache/jittor/default/g++\u001b[m\n",
            "\u001b[38;5;2m[i 1220 13:58:24.631080 20 __init__.py:249] Found /usr/local/cuda/bin/nvcc(11.1.105) at /usr/local/cuda/bin/nvcc.\u001b[m\n",
            "\u001b[38;5;2m[i 1220 13:58:24.661760 20 __init__.py:249] Found addr2line(2.30) at /usr/bin/addr2line.\u001b[m\n",
            "\u001b[38;5;2m[i 1220 13:58:24.743849 20 compiler.py:896] pybind_include: -I/usr/include/python3.7m -I/usr/local/lib/python3.7/dist-packages/pybind11/include\u001b[m\n",
            "\u001b[38;5;2m[i 1220 13:58:24.787161 20 compiler.py:898] extension_suffix: .cpython-37m-x86_64-linux-gnu.so\u001b[m\n",
            "\u001b[38;5;2m[i 1220 13:58:25.072062 20 __init__.py:168] Total mem: 12.69GB, using 4 procs for compiling.\u001b[m\n",
            "\u001b[38;5;2m[i 1220 13:58:25.458334 20 jit_compiler.cc:20] Load cc_path: /usr/bin/g++\u001b[m\n",
            "\u001b[38;5;2m[i 1220 13:58:25.459425 20 init.cc:51] Found cuda archs: []\u001b[m\n",
            "\u001b[38;5;2m[i 1220 13:58:25.525384 20 __init__.py:249] Found mpicc(2.1.1) at /usr/bin/mpicc.\u001b[m\n",
            "\u001b[38;5;2m[i 1220 13:58:25.593612 20 compiler.py:653] handle pyjt_include/usr/local/lib/python3.7/dist-packages/jittor/extern/mpi/inc/mpi_warper.h\u001b[m\n",
            "\u001b[38;5;2m[i 1220 13:58:25.634612 20 compile_extern.py:270] Downloading nccl...\u001b[m\n",
            "\u001b[38;5;2m[i 1220 13:58:25.765998 20 compile_extern.py:15] found /usr/local/cuda/include/cublas.h\u001b[m\n",
            "\u001b[38;5;2m[i 1220 13:58:25.766242 20 compile_extern.py:15] found /usr/local/cuda/lib64/libcublas.so\u001b[m\n",
            "\u001b[38;5;2m[i 1220 13:58:25.799573 20 compile_extern.py:15] found /usr/include/cudnn.h\u001b[m\n",
            "\u001b[38;5;2m[i 1220 13:58:25.799781 20 compile_extern.py:15] found /usr/lib/x86_64-linux-gnu/libcudnn.so\u001b[m\n",
            "\u001b[38;5;2m[i 1220 13:58:25.835682 20 compiler.py:653] handle pyjt_include/usr/local/lib/python3.7/dist-packages/jittor/extern/cuda/cudnn/inc/cudnn_warper.h\u001b[m\n",
            "\u001b[38;5;2m[i 1220 13:58:25.853176 20 compile_extern.py:15] found /usr/local/cuda/include/curand.h\u001b[m\n",
            "\u001b[38;5;2m[i 1220 13:58:25.853350 20 compile_extern.py:15] found /usr/local/cuda/lib64/libcurand.so\u001b[m\n"
          ]
        }
      ]
    },
    {
      "cell_type": "code",
      "source": [
        ""
      ],
      "metadata": {
        "id": "0BpVY9_-87Ko"
      },
      "execution_count": null,
      "outputs": []
    },
    {
      "cell_type": "code",
      "source": [
        ""
      ],
      "metadata": {
        "id": "8-gb4iKQ87PG"
      },
      "execution_count": null,
      "outputs": []
    }
  ]
}